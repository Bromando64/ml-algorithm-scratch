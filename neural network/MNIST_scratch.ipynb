{
 "cells": [
  {
   "cell_type": "code",
   "execution_count": 1,
   "metadata": {},
   "outputs": [],
   "source": [
    "import numpy as np\n",
    "import pandas as pd\n",
    "import matplotlib.pyplot as plt\n",
    "from sklearn.model_selection import train_test_split\n",
    "%matplotlib inline"
   ]
  },
  {
   "cell_type": "code",
   "execution_count": 2,
   "metadata": {},
   "outputs": [],
   "source": [
    "df = pd.read_csv('train.csv')"
   ]
  },
  {
   "cell_type": "code",
   "execution_count": 3,
   "metadata": {},
   "outputs": [
    {
     "data": {
      "text/html": [
       "<div>\n",
       "<style scoped>\n",
       "    .dataframe tbody tr th:only-of-type {\n",
       "        vertical-align: middle;\n",
       "    }\n",
       "\n",
       "    .dataframe tbody tr th {\n",
       "        vertical-align: top;\n",
       "    }\n",
       "\n",
       "    .dataframe thead th {\n",
       "        text-align: right;\n",
       "    }\n",
       "</style>\n",
       "<table border=\"1\" class=\"dataframe\">\n",
       "  <thead>\n",
       "    <tr style=\"text-align: right;\">\n",
       "      <th></th>\n",
       "      <th>label</th>\n",
       "      <th>pixel0</th>\n",
       "      <th>pixel1</th>\n",
       "      <th>pixel2</th>\n",
       "      <th>pixel3</th>\n",
       "      <th>pixel4</th>\n",
       "      <th>pixel5</th>\n",
       "      <th>pixel6</th>\n",
       "      <th>pixel7</th>\n",
       "      <th>pixel8</th>\n",
       "      <th>...</th>\n",
       "      <th>pixel774</th>\n",
       "      <th>pixel775</th>\n",
       "      <th>pixel776</th>\n",
       "      <th>pixel777</th>\n",
       "      <th>pixel778</th>\n",
       "      <th>pixel779</th>\n",
       "      <th>pixel780</th>\n",
       "      <th>pixel781</th>\n",
       "      <th>pixel782</th>\n",
       "      <th>pixel783</th>\n",
       "    </tr>\n",
       "  </thead>\n",
       "  <tbody>\n",
       "    <tr>\n",
       "      <th>0</th>\n",
       "      <td>1</td>\n",
       "      <td>0</td>\n",
       "      <td>0</td>\n",
       "      <td>0</td>\n",
       "      <td>0</td>\n",
       "      <td>0</td>\n",
       "      <td>0</td>\n",
       "      <td>0</td>\n",
       "      <td>0</td>\n",
       "      <td>0</td>\n",
       "      <td>...</td>\n",
       "      <td>0</td>\n",
       "      <td>0</td>\n",
       "      <td>0</td>\n",
       "      <td>0</td>\n",
       "      <td>0</td>\n",
       "      <td>0</td>\n",
       "      <td>0</td>\n",
       "      <td>0</td>\n",
       "      <td>0</td>\n",
       "      <td>0</td>\n",
       "    </tr>\n",
       "    <tr>\n",
       "      <th>1</th>\n",
       "      <td>0</td>\n",
       "      <td>0</td>\n",
       "      <td>0</td>\n",
       "      <td>0</td>\n",
       "      <td>0</td>\n",
       "      <td>0</td>\n",
       "      <td>0</td>\n",
       "      <td>0</td>\n",
       "      <td>0</td>\n",
       "      <td>0</td>\n",
       "      <td>...</td>\n",
       "      <td>0</td>\n",
       "      <td>0</td>\n",
       "      <td>0</td>\n",
       "      <td>0</td>\n",
       "      <td>0</td>\n",
       "      <td>0</td>\n",
       "      <td>0</td>\n",
       "      <td>0</td>\n",
       "      <td>0</td>\n",
       "      <td>0</td>\n",
       "    </tr>\n",
       "    <tr>\n",
       "      <th>2</th>\n",
       "      <td>1</td>\n",
       "      <td>0</td>\n",
       "      <td>0</td>\n",
       "      <td>0</td>\n",
       "      <td>0</td>\n",
       "      <td>0</td>\n",
       "      <td>0</td>\n",
       "      <td>0</td>\n",
       "      <td>0</td>\n",
       "      <td>0</td>\n",
       "      <td>...</td>\n",
       "      <td>0</td>\n",
       "      <td>0</td>\n",
       "      <td>0</td>\n",
       "      <td>0</td>\n",
       "      <td>0</td>\n",
       "      <td>0</td>\n",
       "      <td>0</td>\n",
       "      <td>0</td>\n",
       "      <td>0</td>\n",
       "      <td>0</td>\n",
       "    </tr>\n",
       "    <tr>\n",
       "      <th>3</th>\n",
       "      <td>4</td>\n",
       "      <td>0</td>\n",
       "      <td>0</td>\n",
       "      <td>0</td>\n",
       "      <td>0</td>\n",
       "      <td>0</td>\n",
       "      <td>0</td>\n",
       "      <td>0</td>\n",
       "      <td>0</td>\n",
       "      <td>0</td>\n",
       "      <td>...</td>\n",
       "      <td>0</td>\n",
       "      <td>0</td>\n",
       "      <td>0</td>\n",
       "      <td>0</td>\n",
       "      <td>0</td>\n",
       "      <td>0</td>\n",
       "      <td>0</td>\n",
       "      <td>0</td>\n",
       "      <td>0</td>\n",
       "      <td>0</td>\n",
       "    </tr>\n",
       "    <tr>\n",
       "      <th>4</th>\n",
       "      <td>0</td>\n",
       "      <td>0</td>\n",
       "      <td>0</td>\n",
       "      <td>0</td>\n",
       "      <td>0</td>\n",
       "      <td>0</td>\n",
       "      <td>0</td>\n",
       "      <td>0</td>\n",
       "      <td>0</td>\n",
       "      <td>0</td>\n",
       "      <td>...</td>\n",
       "      <td>0</td>\n",
       "      <td>0</td>\n",
       "      <td>0</td>\n",
       "      <td>0</td>\n",
       "      <td>0</td>\n",
       "      <td>0</td>\n",
       "      <td>0</td>\n",
       "      <td>0</td>\n",
       "      <td>0</td>\n",
       "      <td>0</td>\n",
       "    </tr>\n",
       "  </tbody>\n",
       "</table>\n",
       "<p>5 rows × 785 columns</p>\n",
       "</div>"
      ],
      "text/plain": [
       "   label  pixel0  pixel1  pixel2  pixel3  pixel4  pixel5  pixel6  pixel7  \\\n",
       "0      1       0       0       0       0       0       0       0       0   \n",
       "1      0       0       0       0       0       0       0       0       0   \n",
       "2      1       0       0       0       0       0       0       0       0   \n",
       "3      4       0       0       0       0       0       0       0       0   \n",
       "4      0       0       0       0       0       0       0       0       0   \n",
       "\n",
       "   pixel8  ...  pixel774  pixel775  pixel776  pixel777  pixel778  pixel779  \\\n",
       "0       0  ...         0         0         0         0         0         0   \n",
       "1       0  ...         0         0         0         0         0         0   \n",
       "2       0  ...         0         0         0         0         0         0   \n",
       "3       0  ...         0         0         0         0         0         0   \n",
       "4       0  ...         0         0         0         0         0         0   \n",
       "\n",
       "   pixel780  pixel781  pixel782  pixel783  \n",
       "0         0         0         0         0  \n",
       "1         0         0         0         0  \n",
       "2         0         0         0         0  \n",
       "3         0         0         0         0  \n",
       "4         0         0         0         0  \n",
       "\n",
       "[5 rows x 785 columns]"
      ]
     },
     "execution_count": 3,
     "metadata": {},
     "output_type": "execute_result"
    }
   ],
   "source": [
    "df.head()"
   ]
  },
  {
   "attachments": {},
   "cell_type": "markdown",
   "metadata": {},
   "source": [
    "**Forward propagation**\n",
    "\n",
    "$$Z^{[1]} = W^{[1]} X + b^{[1]}$$\n",
    "$$A^{[1]} = g_{\\text{ReLU}}(Z^{[1]}))$$\n",
    "$$Z^{[2]} = W^{[2]} A^{[1]} + b^{[2]}$$\n",
    "$$A^{[2]} = g_{\\text{softmax}}(Z^{[2]})$$\n",
    "\n",
    "**Backward propagation**\n",
    "\n",
    "$$dZ^{[2]} = A^{[2]} - Y$$\n",
    "$$dW^{[2]} = \\frac{1}{m} dZ^{[2]} A^{[1]T}$$\n",
    "$$dB^{[2]} = \\frac{1}{m} \\Sigma {dZ^{[2]}}$$\n",
    "$$dZ^{[1]} = W^{[2]T} dZ^{[2]} .* g^{[1]\\prime} (z^{[1]})$$\n",
    "$$dW^{[1]} = \\frac{1}{m} dZ^{[1]} A^{[0]T}$$\n",
    "$$dB^{[1]} = \\frac{1}{m} \\Sigma {dZ^{[1]}}$$\n",
    "\n",
    "**Parameter updates**\n",
    "\n",
    "$$W^{[2]} := W^{[2]} - \\alpha dW^{[2]}$$\n",
    "$$b^{[2]} := b^{[2]} - \\alpha db^{[2]}$$\n",
    "$$W^{[1]} := W^{[1]} - \\alpha dW^{[1]}$$\n",
    "$$b^{[1]} := b^{[1]} - \\alpha db^{[1]}$$\n",
    "\n",
    "**Vars and shapes**\n",
    "\n",
    "Forward prop\n",
    "\n",
    "- $A^{[0]} = X$: 784 x m\n",
    "- $Z^{[1]} \\sim A^{[1]}$: 10 x m\n",
    "- $W^{[1]}$: 10 x 784 (as $W^{[1]} A^{[0]} \\sim Z^{[1]}$)\n",
    "- $B^{[1]}$: 10 x 1\n",
    "- $Z^{[2]} \\sim A^{[2]}$: 10 x m\n",
    "- $W^{[2]}$: 10 x 10 (as $W^{[2]} A^{[1]} \\sim Z^{[2]}$)\n",
    "- $B^{[2]}$: 10 x 1\n",
    "\n",
    "Backprop\n",
    "\n",
    "- $dZ^{[2]}$: 10 x m ($~A^{[2]}$)\n",
    "- $dW^{[2]}$: 10 x 10\n",
    "- $dB^{[2]}$: 10 x 1\n",
    "- $dZ^{[1]}$: 10 x m ($~A^{[1]}$)\n",
    "- $dW^{[1]}$: 10 x 10\n",
    "- $dB^{[1]}$: 10 x 1\n"
   ]
  },
  {
   "cell_type": "code",
   "execution_count": 4,
   "metadata": {},
   "outputs": [],
   "source": [
    "data = np.array(df)\n",
    "m,n = data.shape\n",
    "\n",
    "y = data[:, 0]\n",
    "X = data[:,1:]\n",
    "\n",
    "#normalizing\n",
    "X = X/255.\n",
    "\n",
    "X_train,X_test,y_train,y_test = train_test_split(X,y,test_size=0.2)\n",
    "X_train = X_train.T\n",
    "X_test = X_test.T\n"
   ]
  },
  {
   "cell_type": "code",
   "execution_count": 5,
   "metadata": {},
   "outputs": [],
   "source": [
    "def init_params():\n",
    "    W1 = np.random.rand(10,784) - 0.5\n",
    "    b1 = np.random.rand(10,1) - 0.5\n",
    "\n",
    "    W2 = np.random.rand(10,10) - 0.5\n",
    "    b2 = np.random.rand(10,1) - 0.5\n",
    "\n",
    "    return W1,b1,W2,b2"
   ]
  },
  {
   "cell_type": "code",
   "execution_count": 6,
   "metadata": {},
   "outputs": [],
   "source": [
    "def ReLU(Z):\n",
    "    return np.maximum(Z,0)"
   ]
  },
  {
   "cell_type": "code",
   "execution_count": 7,
   "metadata": {},
   "outputs": [],
   "source": [
    "def softmax(Z):\n",
    "    return np.exp(Z) / sum(np.exp(Z))"
   ]
  },
  {
   "cell_type": "code",
   "execution_count": 8,
   "metadata": {},
   "outputs": [],
   "source": [
    "def forward_prop(W1,b1,W2,b2,X):\n",
    "\n",
    "    Z1 = W1.dot(X) + b1\n",
    "    A1 = ReLU(Z1)\n",
    "\n",
    "    Z2 = W2.dot(A1) + b2\n",
    "    A2 = softmax(Z2)\n",
    "    \n",
    "    return Z1, A1, Z2, A2"
   ]
  },
  {
   "cell_type": "code",
   "execution_count": 9,
   "metadata": {},
   "outputs": [],
   "source": [
    "def one_hot(y):\n",
    "    one_hot_y = np.zeros((y.size,y.max()+1))\n",
    "    one_hot_y[np.arange(y.size),y] = 1\n",
    "    one_hot_y = one_hot_y.T\n",
    "    return one_hot_y"
   ]
  },
  {
   "cell_type": "code",
   "execution_count": 10,
   "metadata": {},
   "outputs": [],
   "source": [
    "def deriv_ReLU(Z):\n",
    "    return Z > 0"
   ]
  },
  {
   "cell_type": "code",
   "execution_count": 11,
   "metadata": {},
   "outputs": [],
   "source": [
    "def back_prop(Z1, A1, Z2, A2, W2, X, y):\n",
    "    one_hot_y = one_hot(y)\n",
    "    dZ2 = A2 - one_hot_y\n",
    "    dW2 = 1 / m * np.dot(dZ2,A1.T)\n",
    "    db2 = 1 / m * np.sum(dZ2)\n",
    "\n",
    "    dZ1 = W2.T.dot(dZ2) * deriv_ReLU(Z1)\n",
    "    dW1 = 1 / m * np.dot(dZ1,X.T)\n",
    "    db1 = 1 / m * np.sum(dZ1)\n",
    "\n",
    "    return dW1, db1, dW2, db2"
   ]
  },
  {
   "cell_type": "code",
   "execution_count": 12,
   "metadata": {},
   "outputs": [],
   "source": [
    "def update_params(W1, b1, W2, b2, dW1, db1, dW2, db2, alpha):\n",
    "    W1 = W1 - alpha * dW1\n",
    "    b1 = b1 - alpha * db1\n",
    "\n",
    "    W2 = W2 - alpha * dW2\n",
    "    b2 = b2 - alpha * db2\n",
    "    \n",
    "    return W1, b1, W2, b2"
   ]
  },
  {
   "cell_type": "code",
   "execution_count": 13,
   "metadata": {},
   "outputs": [],
   "source": [
    "def get_predictions(A2):\n",
    "    return np.argmax(A2, 0)\n",
    "\n",
    "def get_accuracy(predictions, y):\n",
    "    print(predictions, y)\n",
    "    return np.sum(predictions == y) / y.size"
   ]
  },
  {
   "cell_type": "code",
   "execution_count": 14,
   "metadata": {},
   "outputs": [],
   "source": [
    "def gradient_descent(X, y, alpha, iters):\n",
    "    W1, b1, W2, b2 = init_params()\n",
    "    \n",
    "    for i in range(iters):\n",
    "        Z1,A1,Z2,A2 = forward_prop(W1,b1,W2,b2,X)\n",
    "        dW1, db1, dW2, db2 = back_prop(Z1, A1, Z2, A2, W2, X, y)\n",
    "        W1, b1, W2, b2 = update_params(W1, b1, W2, b2, dW1, db1, dW2, db2, alpha)\n",
    "        \n",
    "        if i % 10 == 0:\n",
    "            print(\"Iteration: \", i)\n",
    "            predictions = get_predictions(A2)\n",
    "            print(get_accuracy(predictions, y))\n",
    "    return W1, b1, W2, b2"
   ]
  },
  {
   "cell_type": "code",
   "execution_count": 15,
   "metadata": {},
   "outputs": [
    {
     "name": "stdout",
     "output_type": "stream",
     "text": [
      "Iteration:  0\n",
      "[2 2 9 ... 0 2 9] [5 5 6 ... 3 5 6]\n",
      "0.11479166666666667\n",
      "Iteration:  10\n",
      "[7 6 9 ... 3 9 6] [5 5 6 ... 3 5 6]\n",
      "0.3306547619047619\n",
      "Iteration:  20\n",
      "[7 6 6 ... 3 3 6] [5 5 6 ... 3 5 6]\n",
      "0.4406547619047619\n",
      "Iteration:  30\n",
      "[7 5 6 ... 3 3 6] [5 5 6 ... 3 5 6]\n",
      "0.5252678571428572\n",
      "Iteration:  40\n",
      "[7 5 6 ... 3 3 6] [5 5 6 ... 3 5 6]\n",
      "0.5842857142857143\n",
      "Iteration:  50\n",
      "[7 5 6 ... 3 3 6] [5 5 6 ... 3 5 6]\n",
      "0.6295535714285714\n",
      "Iteration:  60\n",
      "[7 5 6 ... 3 3 6] [5 5 6 ... 3 5 6]\n",
      "0.6610714285714285\n",
      "Iteration:  70\n",
      "[7 5 6 ... 3 3 6] [5 5 6 ... 3 5 6]\n",
      "0.6746428571428571\n",
      "Iteration:  80\n",
      "[9 5 6 ... 3 3 6] [5 5 6 ... 3 5 6]\n",
      "0.6419642857142858\n",
      "Iteration:  90\n",
      "[5 5 6 ... 3 3 6] [5 5 6 ... 3 5 6]\n",
      "0.6851785714285714\n",
      "Iteration:  100\n",
      "[5 5 6 ... 3 3 6] [5 5 6 ... 3 5 6]\n",
      "0.7028869047619047\n",
      "Iteration:  110\n",
      "[5 5 6 ... 3 3 6] [5 5 6 ... 3 5 6]\n",
      "0.7186904761904762\n",
      "Iteration:  120\n",
      "[5 5 6 ... 3 3 6] [5 5 6 ... 3 5 6]\n",
      "0.73375\n",
      "Iteration:  130\n",
      "[5 5 6 ... 3 3 6] [5 5 6 ... 3 5 6]\n",
      "0.7496130952380953\n",
      "Iteration:  140\n",
      "[5 5 6 ... 3 3 6] [5 5 6 ... 3 5 6]\n",
      "0.7636607142857142\n",
      "Iteration:  150\n",
      "[5 5 6 ... 3 3 6] [5 5 6 ... 3 5 6]\n",
      "0.7754166666666666\n",
      "Iteration:  160\n",
      "[5 5 6 ... 3 3 6] [5 5 6 ... 3 5 6]\n",
      "0.7850892857142857\n",
      "Iteration:  170\n",
      "[5 5 6 ... 3 3 6] [5 5 6 ... 3 5 6]\n",
      "0.7941964285714286\n",
      "Iteration:  180\n",
      "[5 5 6 ... 3 3 6] [5 5 6 ... 3 5 6]\n",
      "0.8022619047619047\n",
      "Iteration:  190\n",
      "[5 5 6 ... 3 3 6] [5 5 6 ... 3 5 6]\n",
      "0.809702380952381\n",
      "Iteration:  200\n",
      "[5 5 6 ... 3 3 6] [5 5 6 ... 3 5 6]\n",
      "0.8162797619047619\n",
      "Iteration:  210\n",
      "[5 5 6 ... 3 3 6] [5 5 6 ... 3 5 6]\n",
      "0.8231845238095238\n",
      "Iteration:  220\n",
      "[5 5 6 ... 3 3 6] [5 5 6 ... 3 5 6]\n",
      "0.8285416666666666\n",
      "Iteration:  230\n",
      "[5 5 6 ... 3 3 6] [5 5 6 ... 3 5 6]\n",
      "0.8333928571428572\n",
      "Iteration:  240\n",
      "[5 5 6 ... 3 3 6] [5 5 6 ... 3 5 6]\n",
      "0.8276488095238095\n",
      "Iteration:  250\n",
      "[5 5 6 ... 3 3 6] [5 5 6 ... 3 5 6]\n",
      "0.8367857142857142\n",
      "Iteration:  260\n",
      "[5 5 6 ... 3 3 6] [5 5 6 ... 3 5 6]\n",
      "0.8474702380952381\n",
      "Iteration:  270\n",
      "[5 5 6 ... 3 3 6] [5 5 6 ... 3 5 6]\n",
      "0.85125\n",
      "Iteration:  280\n",
      "[5 5 6 ... 3 3 6] [5 5 6 ... 3 5 6]\n",
      "0.854077380952381\n",
      "Iteration:  290\n",
      "[5 5 6 ... 3 3 6] [5 5 6 ... 3 5 6]\n",
      "0.8558630952380952\n",
      "Iteration:  300\n",
      "[5 5 6 ... 3 3 6] [5 5 6 ... 3 5 6]\n",
      "0.8561607142857143\n",
      "Iteration:  310\n",
      "[5 5 6 ... 3 3 6] [5 5 6 ... 3 5 6]\n",
      "0.8570535714285714\n",
      "Iteration:  320\n",
      "[5 5 6 ... 3 3 6] [5 5 6 ... 3 5 6]\n",
      "0.8595535714285715\n",
      "Iteration:  330\n",
      "[5 5 6 ... 3 3 6] [5 5 6 ... 3 5 6]\n",
      "0.8632738095238095\n",
      "Iteration:  340\n",
      "[5 5 6 ... 3 3 6] [5 5 6 ... 3 5 6]\n",
      "0.8666964285714286\n",
      "Iteration:  350\n",
      "[5 5 6 ... 3 3 6] [5 5 6 ... 3 5 6]\n",
      "0.8692857142857143\n",
      "Iteration:  360\n",
      "[5 5 6 ... 3 3 6] [5 5 6 ... 3 5 6]\n",
      "0.8704761904761905\n",
      "Iteration:  370\n",
      "[5 5 6 ... 3 3 6] [5 5 6 ... 3 5 6]\n",
      "0.8720833333333333\n",
      "Iteration:  380\n",
      "[5 5 6 ... 3 3 6] [5 5 6 ... 3 5 6]\n",
      "0.8736011904761904\n",
      "Iteration:  390\n",
      "[5 5 6 ... 3 3 6] [5 5 6 ... 3 5 6]\n",
      "0.874702380952381\n",
      "Iteration:  400\n",
      "[5 5 6 ... 3 3 6] [5 5 6 ... 3 5 6]\n",
      "0.8760119047619047\n",
      "Iteration:  410\n",
      "[5 5 6 ... 3 3 6] [5 5 6 ... 3 5 6]\n",
      "0.8770238095238095\n",
      "Iteration:  420\n",
      "[5 5 6 ... 3 3 6] [5 5 6 ... 3 5 6]\n",
      "0.8783035714285714\n",
      "Iteration:  430\n",
      "[5 5 6 ... 3 3 6] [5 5 6 ... 3 5 6]\n",
      "0.8792559523809523\n",
      "Iteration:  440\n",
      "[5 5 6 ... 3 5 6] [5 5 6 ... 3 5 6]\n",
      "0.8807440476190476\n",
      "Iteration:  450\n",
      "[5 5 6 ... 3 5 6] [5 5 6 ... 3 5 6]\n",
      "0.881547619047619\n",
      "Iteration:  460\n",
      "[5 5 6 ... 3 5 6] [5 5 6 ... 3 5 6]\n",
      "0.882172619047619\n",
      "Iteration:  470\n",
      "[5 5 6 ... 3 5 6] [5 5 6 ... 3 5 6]\n",
      "0.8833333333333333\n",
      "Iteration:  480\n",
      "[5 5 6 ... 3 5 6] [5 5 6 ... 3 5 6]\n",
      "0.8841071428571429\n",
      "Iteration:  490\n",
      "[5 5 6 ... 3 5 6] [5 5 6 ... 3 5 6]\n",
      "0.8848214285714285\n"
     ]
    }
   ],
   "source": [
    "W1, b1, W2, b2 = gradient_descent(X_train, y_train, 0.3, 500)"
   ]
  },
  {
   "cell_type": "code",
   "execution_count": 16,
   "metadata": {},
   "outputs": [],
   "source": [
    "\n",
    "def make_predictions(X, W1, b1, W2, b2):\n",
    "    _, _, _, A2 = forward_prop(W1, b1, W2, b2, X)\n",
    "    predictions = get_predictions(A2)\n",
    "    return predictions"
   ]
  },
  {
   "cell_type": "code",
   "execution_count": 17,
   "metadata": {},
   "outputs": [
    {
     "name": "stdout",
     "output_type": "stream",
     "text": [
      "[5 5 7 ... 4 5 2] [5 5 9 ... 4 5 2]\n"
     ]
    },
    {
     "data": {
      "text/plain": [
       "0.8875"
      ]
     },
     "execution_count": 17,
     "metadata": {},
     "output_type": "execute_result"
    }
   ],
   "source": [
    "dev_predictions = make_predictions(X_test, W1, b1, W2, b2)\n",
    "get_accuracy(dev_predictions, y_test)"
   ]
  },
  {
   "cell_type": "code",
   "execution_count": 18,
   "metadata": {},
   "outputs": [],
   "source": [
    "def test_prediction(index, W1, b1, W2, b2):\n",
    "    current_image = X_train[:, index, None]\n",
    "    prediction = make_predictions(X_train[:, index, None], W1, b1, W2, b2)\n",
    "    label = y_train[index]\n",
    "    print(\"Prediction: \", prediction)\n",
    "    print(\"Label: \", label)\n",
    "    \n",
    "    current_image = current_image.reshape((28, 28)) * 255\n",
    "    plt.gray()\n",
    "    plt.imshow(current_image, interpolation='nearest')\n",
    "    plt.show()"
   ]
  },
  {
   "cell_type": "code",
   "execution_count": 19,
   "metadata": {},
   "outputs": [],
   "source": [
    "a = np.random.randint(0,1000,4)"
   ]
  },
  {
   "cell_type": "code",
   "execution_count": 20,
   "metadata": {},
   "outputs": [
    {
     "name": "stdout",
     "output_type": "stream",
     "text": [
      "Prediction:  [4]\n",
      "Label:  4\n"
     ]
    },
    {
     "data": {
      "image/png": "[encoded data removed]",
      "text/plain": [
       "<Figure size 640x480 with 1 Axes>"
      ]
     },
     "metadata": {},
     "output_type": "display_data"
    },
    {
     "name": "stdout",
     "output_type": "stream",
     "text": [
      "Prediction:  [1]\n",
      "Label:  1\n"
     ]
    },
    {
     "data": {
      "image/png": "[encoded data removed]",
      "text/plain": [
       "<Figure size 640x480 with 1 Axes>"
      ]
     },
     "metadata": {},
     "output_type": "display_data"
    },
    {
     "name": "stdout",
     "output_type": "stream",
     "text": [
      "Prediction:  [2]\n",
      "Label:  2\n"
     ]
    },
    {
     "data": {
      "image/png": "[encoded data removed]",
      "text/plain": [
       "<Figure size 640x480 with 1 Axes>"
      ]
     },
     "metadata": {},
     "output_type": "display_data"
    },
    {
     "name": "stdout",
     "output_type": "stream",
     "text": [
      "Prediction:  [1]\n",
      "Label:  1\n"
     ]
    },
    {
     "data": {
      "image/png": "[encoded data removed]",
      "text/plain": [
       "<Figure size 640x480 with 1 Axes>"
      ]
     },
     "metadata": {},
     "output_type": "display_data"
    }
   ],
   "source": [
    "for i in a:\n",
    "    test_prediction(i, W1, b1, W2, b2)"
   ]
  }
 ],
 "metadata": {
  "kernelspec": {
   "display_name": "base_env",
   "language": "python",
   "name": "python3"
  },
  "language_info": {
   "codemirror_mode": {
    "name": "ipython",
    "version": 3
   },
   "file_extension": ".py",
   "mimetype": "text/x-python",
   "name": "python",
   "nbconvert_exporter": "python",
   "pygments_lexer": "ipython3",
   "version": "3.10.9"
  },
  "orig_nbformat": 4,
  "vscode": {
   "interpreter": {
    "hash": "67ffec3e2fa8f26095a95a8cce777796bdb5a6b8576c61f0ae5d15d1a6d12588"
   }
  }
 },
 "nbformat": 4,
 "nbformat_minor": 2
}
